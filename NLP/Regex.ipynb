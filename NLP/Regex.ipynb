{
 "cells": [
  {
   "cell_type": "markdown",
   "id": "842abfe3",
   "metadata": {},
   "source": [
    "#### Regex\n",
    "\n",
    "Regular Expression is a sequence of characters that defines a search pattern. In, NLP it is used to :\n",
    "\n",
    "+ clean text\n",
    "+ Extract Patterns\n",
    "+ Find or Replace Specific Patterns\n",
    "\n",
    "+ To learn Regex:\n",
    "    + regexr.com\n",
    "    + regex101.com\n"
   ]
  },
  {
   "cell_type": "markdown",
   "id": "a4f976e4",
   "metadata": {},
   "source": [
    "#### 1. Character Classes\n",
    ".   -> Any character except newline\n"
   ]
  },
  {
   "cell_type": "code",
   "execution_count": 1,
   "id": "9ad11436",
   "metadata": {},
   "outputs": [
    {
     "data": {
      "text/plain": [
       "['cat', 'cut', 'cot', 'c t']"
      ]
     },
     "execution_count": 1,
     "metadata": {},
     "output_type": "execute_result"
    }
   ],
   "source": [
    "import re\n",
    "re.findall(r'c.t','cat cut cot c t')"
   ]
  },
  {
   "cell_type": "markdown",
   "id": "985fc794",
   "metadata": {},
   "source": [
    "+ \\w\\d\\s\tword, digit, whitespace"
   ]
  },
  {
   "cell_type": "code",
   "execution_count": 7,
   "id": "9f5e3098",
   "metadata": {},
   "outputs": [
    {
     "data": {
      "text/plain": [
       "['7', '12345', '2025', '555', '123', '4567']"
      ]
     },
     "execution_count": 7,
     "metadata": {},
     "output_type": "execute_result"
    }
   ],
   "source": [
    "text =\"\"\"\n",
    "Generat text7 with multiple words:\n",
    "\n",
    "This is a simple text string. \n",
    "\n",
    "Test string with numbers 12345 and symbols !@#$\n",
    "\n",
    "Regex can be tricky, but it's powerful.\n",
    "\n",
    "Look out for 2025, it's going to be an exciting year!\n",
    "\n",
    "Call me at 555-123-4567 for more info.\"\"\"\n",
    "\n",
    "re.findall(r\"\\d+\", text)"
   ]
  },
  {
   "cell_type": "code",
   "execution_count": 12,
   "id": "83093ac7",
   "metadata": {},
   "outputs": [
    {
     "data": {
      "text/plain": [
       "['  ']"
      ]
     },
     "execution_count": 12,
     "metadata": {},
     "output_type": "execute_result"
    }
   ],
   "source": [
    "re.findall(r'\\w+','Regex101 is #1')\n",
    "#['Regex101', 'is', '1']\n",
    "\n",
    "re.findall(r'\\d+', 'Year: 2025')\n",
    "#['2025']\n",
    "\n",
    "re.findall(r'\\s+', 'a  b')\n",
    "#['  ']"
   ]
  },
  {
   "cell_type": "markdown",
   "id": "ccfa9d19",
   "metadata": {},
   "source": [
    "\\W\\D\\S\tnot word, digit, whitespace"
   ]
  },
  {
   "cell_type": "code",
   "execution_count": null,
   "id": "fdcc64d2",
   "metadata": {},
   "outputs": [
    {
     "data": {
      "text/plain": [
       "['text', 'with', 'spaces']"
      ]
     },
     "execution_count": 13,
     "metadata": {},
     "output_type": "execute_result"
    }
   ],
   "source": [
    "re.findall(r'\\W+', 'A&B*C!')\n",
    "#['&', '*' ,'!']\n",
    "\n",
    "re.findall(r'\\D+', 'Call 911 now!')\n",
    "#['Call ', ' now!']\n",
    "\n",
    "re.findall(r'\\S+', 'text  with  spaces')\n",
    "#['text', 'with', 'spaces']"
   ]
  },
  {
   "cell_type": "markdown",
   "id": "77b36948",
   "metadata": {},
   "source": [
    "[abc] -\tany of a, b, or c"
   ]
  },
  {
   "cell_type": "code",
   "execution_count": 16,
   "id": "b56b09a7",
   "metadata": {},
   "outputs": [
    {
     "data": {
      "text/plain": [
       "['A', 'b', 'a', 'a', 'a', 'c', 'a', 'a']"
      ]
     },
     "execution_count": 16,
     "metadata": {},
     "output_type": "execute_result"
    }
   ],
   "source": [
    "re.findall(r\"[abc]\", 'Apple banana carrot Mango', re.I)"
   ]
  },
  {
   "cell_type": "markdown",
   "id": "44dbef2e",
   "metadata": {},
   "source": [
    "[^abc]\t- not a, b, or c"
   ]
  },
  {
   "cell_type": "code",
   "execution_count": 17,
   "id": "7f0c38ef",
   "metadata": {},
   "outputs": [
    {
     "data": {
      "text/plain": [
       "['a', 'b', 'c', 'd', 'e', 'f', 'g', 'a', 'a']"
      ]
     },
     "execution_count": 17,
     "metadata": {},
     "output_type": "execute_result"
    }
   ],
   "source": [
    "re.findall(r'[a-g]' , 'abcdefgzxayinsa')"
   ]
  },
  {
   "cell_type": "markdown",
   "id": "8ed12892",
   "metadata": {},
   "source": [
    "#### 2. Anchors\n"
   ]
  },
  {
   "cell_type": "markdown",
   "id": "cf520a8a",
   "metadata": {},
   "source": [
    "^abc$ -\tstart / end of the string"
   ]
  },
  {
   "cell_type": "code",
   "execution_count": 18,
   "id": "e3e20a2f",
   "metadata": {},
   "outputs": [],
   "source": [
    "re.match(r'^abc$', 'abc')  # full string is \"abc\"\n",
    "#match object exists\n",
    "re.match(r'^abc$', 'abcd')  # full string is not \"abc\"\n",
    "#none"
   ]
  },
  {
   "cell_type": "markdown",
   "id": "46b8900c",
   "metadata": {},
   "source": [
    "\\b\\B - word, not-word boundary"
   ]
  },
  {
   "cell_type": "code",
   "execution_count": 19,
   "id": "d119c45a",
   "metadata": {},
   "outputs": [
    {
     "data": {
      "text/plain": [
       "['cat', 'cat']"
      ]
     },
     "execution_count": 19,
     "metadata": {},
     "output_type": "execute_result"
    }
   ],
   "source": [
    "re.findall(r'\\bcat\\b', 'cat catalog category')\n",
    "\n",
    "re.findall(r'\\Bcat\\B', 'educate location')"
   ]
  },
  {
   "cell_type": "markdown",
   "id": "f1d1373e",
   "metadata": {},
   "source": [
    "#### 3. Escaped Characters"
   ]
  },
  {
   "cell_type": "markdown",
   "id": "6148ba52",
   "metadata": {},
   "source": [
    "\\.\\*\\\\ - escaped special characters"
   ]
  },
  {
   "cell_type": "code",
   "execution_count": 20,
   "id": "92f5f8a2",
   "metadata": {},
   "outputs": [
    {
     "data": {
      "text/plain": [
       "['*', '*']"
      ]
     },
     "execution_count": 20,
     "metadata": {},
     "output_type": "execute_result"
    }
   ],
   "source": [
    "re.findall(r'\\.', 'test.example.com')\n",
    "# ['.', '.']\n",
    "\n",
    "re.findall(r'\\*','a*b*c')"
   ]
  },
  {
   "cell_type": "markdown",
   "id": "8ba060f9",
   "metadata": {},
   "source": [
    "\\t\\n\\r-tab, linefeed, carriage return"
   ]
  },
  {
   "cell_type": "code",
   "execution_count": 21,
   "id": "64a5cb85",
   "metadata": {},
   "outputs": [
    {
     "data": {
      "text/plain": [
       "['\\t', '\\n', '\\r']"
      ]
     },
     "execution_count": 21,
     "metadata": {},
     "output_type": "execute_result"
    }
   ],
   "source": [
    "text = 'first\\tsecond\\nthird\\rfourth'\n",
    "re.findall(r'\\t|\\n|\\r', text)  "
   ]
  },
  {
   "cell_type": "markdown",
   "id": "b7e3dedf",
   "metadata": {},
   "source": [
    "#### 4. Groups & Lookaround"
   ]
  },
  {
   "cell_type": "markdown",
   "id": "bea92154",
   "metadata": {},
   "source": [
    "(abc) - capture group"
   ]
  },
  {
   "cell_type": "code",
   "execution_count": 1,
   "id": "922b2c76",
   "metadata": {},
   "outputs": [
    {
     "data": {
      "text/plain": [
       "[('Rojin', ''), ('', 'Maharjan')]"
      ]
     },
     "execution_count": 1,
     "metadata": {},
     "output_type": "execute_result"
    }
   ],
   "source": [
    "import re\n",
    "\n",
    "text = \"\"\"Serial numbers: A1234B, A5678C, Z4321X.\n",
    "Account number: 9811664283 Name: Rojin Surname: Maharjan\n",
    "Account number: 78969873\"\"\"\n",
    "\n",
    "re.findall(r\"Name: (\\w+)| Surname: (\\w+)\", text)"
   ]
  },
  {
   "cell_type": "code",
   "execution_count": 23,
   "id": "42fd60df",
   "metadata": {},
   "outputs": [
    {
     "data": {
      "text/plain": [
       "['ha']"
      ]
     },
     "execution_count": 23,
     "metadata": {},
     "output_type": "execute_result"
    }
   ],
   "source": [
    "re.findall(r'(ha)+','hahaha')"
   ]
  },
  {
   "cell_type": "markdown",
   "id": "037ab2eb",
   "metadata": {},
   "source": [
    "\\1 - backreference"
   ]
  },
  {
   "cell_type": "code",
   "execution_count": 27,
   "id": "3401a8a3",
   "metadata": {},
   "outputs": [
    {
     "data": {
      "text/plain": [
       "['hello', 'world']"
      ]
     },
     "execution_count": 27,
     "metadata": {},
     "output_type": "execute_result"
    }
   ],
   "source": [
    "re.findall(r'(\\w+)\\s+\\1','hello hello world world')"
   ]
  },
  {
   "cell_type": "markdown",
   "id": "8b726db6",
   "metadata": {},
   "source": [
    "(?:abc) - non-capturing group"
   ]
  },
  {
   "cell_type": "code",
   "execution_count": 28,
   "id": "948cdbec",
   "metadata": {},
   "outputs": [
    {
     "data": {
      "text/plain": [
       "['Account number: 9811664283', 'Account number: 78969873']"
      ]
     },
     "execution_count": 28,
     "metadata": {},
     "output_type": "execute_result"
    }
   ],
   "source": [
    "text = \"\"\"Serial numbers: A1234B, A5678C, Z4321X.\n",
    "Account number: 9811664283 Name: Rojin Surname: Maharjan\n",
    "Account number: 78969873\"\"\"\n",
    "\n",
    "re.findall(r\"(?:Account number: )\\d+\", text)"
   ]
  },
  {
   "cell_type": "code",
   "execution_count": 29,
   "id": "1fa46f72",
   "metadata": {},
   "outputs": [
    {
     "data": {
      "text/plain": [
       "['ga', 'ga', 'ga']"
      ]
     },
     "execution_count": 29,
     "metadata": {},
     "output_type": "execute_result"
    }
   ],
   "source": [
    "re.findall(r'(?:ha)+(ga)', 'hahahagahagahaga')"
   ]
  },
  {
   "cell_type": "markdown",
   "id": "11643e10",
   "metadata": {},
   "source": [
    "(?=abc) - positive lookahead"
   ]
  },
  {
   "cell_type": "code",
   "execution_count": 31,
   "id": "2115f9a6",
   "metadata": {},
   "outputs": [
    {
     "data": {
      "text/plain": [
       "['eat', 'runn']"
      ]
     },
     "execution_count": 31,
     "metadata": {},
     "output_type": "execute_result"
    }
   ],
   "source": [
    "re.findall(r'\\w+(?=ing)', 'eating running played')"
   ]
  },
  {
   "cell_type": "markdown",
   "id": "b793c0bf",
   "metadata": {},
   "source": [
    "(?!abc) - negative lookahead"
   ]
  },
  {
   "cell_type": "code",
   "execution_count": 32,
   "id": "f2af83c9",
   "metadata": {},
   "outputs": [
    {
     "data": {
      "text/plain": [
       "['eating', 'running', 'played']"
      ]
     },
     "execution_count": 32,
     "metadata": {},
     "output_type": "execute_result"
    }
   ],
   "source": [
    "re.findall(r'\\w+(?!ing)', 'eating running played')"
   ]
  }
 ],
 "metadata": {
  "kernelspec": {
   "display_name": "Python 3",
   "language": "python",
   "name": "python3"
  },
  "language_info": {
   "codemirror_mode": {
    "name": "ipython",
    "version": 3
   },
   "file_extension": ".py",
   "mimetype": "text/x-python",
   "name": "python",
   "nbconvert_exporter": "python",
   "pygments_lexer": "ipython3",
   "version": "3.12.3"
  }
 },
 "nbformat": 4,
 "nbformat_minor": 5
}
