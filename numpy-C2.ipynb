{
 "cells": [
  {
   "cell_type": "markdown",
   "metadata": {},
   "source": []
  },
  {
   "cell_type": "code",
   "execution_count": 1,
   "metadata": {},
   "outputs": [],
   "source": [
    "import numpy as np"
   ]
  },
  {
   "cell_type": "code",
   "execution_count": 9,
   "metadata": {},
   "outputs": [
    {
     "name": "stdout",
     "output_type": "stream",
     "text": [
      "ball\n",
      "mango\n"
     ]
    }
   ],
   "source": [
    "preds=np.array([0.2,0.5,0.92,0.9,0.1])\n",
    "predicted_class_index = np.argmax(preds)\n",
    "predicted_class_index\n",
    "\n",
    "to_predict_class=[\"apple\",\"banana\",\"ball\",\"mango\",\"orange\"]\n",
    "possible_class_indexes=np.where(preds>0.85)[0]\n",
    "\n",
    "for possible_class_index in possible_class_indexes:\n",
    "    print(to_predict_class[possible_class_index])"
   ]
  },
  {
   "cell_type": "markdown",
   "metadata": {},
   "source": [
    "-argmax (get index of maximum element in array)\n",
    "\n",
    "-argmin (get index of minimum element in array)\n",
    "\n",
    "-argsort (get sorted list of indices, by element value in ascending order)\n",
    "\n",
    "-where (get indices of element that meet same condition)"
   ]
  },
  {
   "cell_type": "code",
   "execution_count": 17,
   "metadata": {},
   "outputs": [
    {
     "name": "stdout",
     "output_type": "stream",
     "text": [
      "The maximum value in the array is: 2\n",
      "The minimum value in the array is: 3\n",
      "The sorted value in ascending order is: [3 0 4 5 6 1 2 7]\n",
      "The sorted value in descending order is: [7 2 1 6 5 4 0 3]\n",
      "Greater than five only using where condition: [1 2 6 7]\n"
     ]
    }
   ],
   "source": [
    "a=np.array([1,8,9,-3,2,4,7,9])\n",
    "\n",
    "#get the index of the amximum element in a\n",
    "print(f\"The maximum value in the array is:\",np.argmax(a))\n",
    "print(f\"The minimum value in the array is:\",np.argmin(a))\n",
    "print(f\"The sorted value in ascending order is:\",np.argsort(a)) #ascending order\n",
    "#for descending order\n",
    "#[::-1] is the slicing index that returns the reversed list\n",
    "print(f\"The sorted value in descending order is:\",np.argsort(a)[::-1]) \n",
    "\n",
    "#get the indices of the element that meets certain conditions\n",
    "#this returns a tuple, the list of the indices is the first entry\n",
    "#so we use [0] to get it \n",
    "print(f\"Greater than five only using where condition:\", np.where(a>5)[0])\n"
   ]
  },
  {
   "cell_type": "markdown",
   "metadata": {},
   "source": [
    "Some more simple methods: max, min, sum"
   ]
  },
  {
   "cell_type": "code",
   "execution_count": 19,
   "metadata": {},
   "outputs": [
    {
     "name": "stdout",
     "output_type": "stream",
     "text": [
      "The maximum of the element: 6\n",
      "The minimum of the element: 1\n",
      "The sum of the element: 21\n"
     ]
    }
   ],
   "source": [
    "x=np.array([[1,2],[3,4],[5,6]])\n",
    "\n",
    "print(f\"The maximum of the element:\",np.max(x))\n",
    "print(f\"The minimum of the element:\",np.min(x))\n",
    "print(f\"The sum of the element:\",np.sum(x))\n",
    "\n"
   ]
  },
  {
   "cell_type": "code",
   "execution_count": 20,
   "metadata": {},
   "outputs": [
    {
     "name": "stdout",
     "output_type": "stream",
     "text": [
      "[[1 2 8]\n",
      " [5 3 1]\n",
      " [4 6 5]]\n",
      "The maximum of each column: [5 6 8]\n",
      "The maximum of each row: [8 5 6]\n"
     ]
    }
   ],
   "source": [
    "x=np.array([[1,2,8],[5,3,1],[4,6,5]])\n",
    "print(x)\n",
    "\n",
    "print(f\"The maximum of each column:\",np.max(x, axis=0))\n",
    "print(f\"The maximum of each row:\",np.max(x, axis=1))\n"
   ]
  },
  {
   "cell_type": "markdown",
   "metadata": {},
   "source": [
    "Transpose and reshape\n"
   ]
  },
  {
   "cell_type": "code",
   "execution_count": 24,
   "metadata": {},
   "outputs": [
    {
     "name": "stdout",
     "output_type": "stream",
     "text": [
      "[[1 2 3]\n",
      " [4 5 6]\n",
      " [7 8 9]]\n",
      "The transpose of the matrix is:\n",
      " [[1 4 7]\n",
      " [2 5 8]\n",
      " [3 6 9]]\n"
     ]
    }
   ],
   "source": [
    "arary=np.array([[1,2,3],[4,5,6],[7,8,9]])\n",
    "print(arary)\n",
    "print(f\"The transpose of the matrix is:\\n\", arary.T)"
   ]
  },
  {
   "cell_type": "code",
   "execution_count": null,
   "metadata": {},
   "outputs": [],
   "source": []
  }
 ],
 "metadata": {
  "kernelspec": {
   "display_name": "Python 3",
   "language": "python",
   "name": "python3"
  },
  "language_info": {
   "codemirror_mode": {
    "name": "ipython",
    "version": 3
   },
   "file_extension": ".py",
   "mimetype": "text/x-python",
   "name": "python",
   "nbconvert_exporter": "python",
   "pygments_lexer": "ipython3",
   "version": "3.12.3"
  }
 },
 "nbformat": 4,
 "nbformat_minor": 2
}
