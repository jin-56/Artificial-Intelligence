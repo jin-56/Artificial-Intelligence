{
 "cells": [
  {
   "cell_type": "code",
   "execution_count": 2,
   "id": "1baa6b3e",
   "metadata": {},
   "outputs": [],
   "source": [
    "import numpy as np"
   ]
  },
  {
   "cell_type": "code",
   "execution_count": 3,
   "id": "65591cb0",
   "metadata": {},
   "outputs": [
    {
     "name": "stdout",
     "output_type": "stream",
     "text": [
      "[[1]\n",
      " [2]\n",
      " [3]\n",
      " [4]]\n",
      "[1 2 3 4]\n"
     ]
    },
    {
     "data": {
      "text/plain": [
       "(4,)"
      ]
     },
     "execution_count": 3,
     "metadata": {},
     "output_type": "execute_result"
    }
   ],
   "source": [
    "data = np.array ([1,2,3,4,5,6,7,8])\n",
    "data.reshape(2,4)\n",
    "w=np.array([[1],[2],[3],[4]])\n",
    "print(w)\n",
    "w.shape\n",
    "y=w.reshape(-1)\n",
    "print(y)\n",
    "y.shape"
   ]
  },
  {
   "cell_type": "code",
   "execution_count": 4,
   "id": "637690f1",
   "metadata": {},
   "outputs": [
    {
     "name": "stdout",
     "output_type": "stream",
     "text": [
      "[1 2 3]\n"
     ]
    },
    {
     "data": {
      "text/plain": [
       "(3,)"
      ]
     },
     "execution_count": 4,
     "metadata": {},
     "output_type": "execute_result"
    }
   ],
   "source": [
    "w=np.array([[1],[2],[3]])\n",
    "\n",
    "z= w.squeeze()\n",
    "print(z)\n",
    "z.shape"
   ]
  },
  {
   "cell_type": "code",
   "execution_count": 5,
   "id": "dc4b8fb6",
   "metadata": {},
   "outputs": [
    {
     "name": "stdout",
     "output_type": "stream",
     "text": [
      "(1, 3)\n",
      "(3,)\n",
      "[1 2 3]\n"
     ]
    }
   ],
   "source": [
    "#creating array with shape\n",
    "arr= np.array([[1,2,3]])\n",
    "print(arr.shape)\n",
    "\n",
    "squeeze_arr= np.squeeze(arr)\n",
    "print(squeeze_arr.shape)\n",
    "print(squeeze_arr)\n"
   ]
  },
  {
   "cell_type": "markdown",
   "id": "42fcde9e",
   "metadata": {},
   "source": [
    "Squeeze array in 3D"
   ]
  },
  {
   "cell_type": "code",
   "execution_count": 6,
   "id": "c078b51a",
   "metadata": {},
   "outputs": [
    {
     "name": "stdout",
     "output_type": "stream",
     "text": [
      "(1, 2, 1)\n",
      "(2,)\n",
      "[1 2]\n"
     ]
    }
   ],
   "source": [
    "arr= np.array([[[1],[2]]])\n",
    "print(arr.shape)\n",
    "\n",
    "#squeeze to remove the single dimensional axes\n",
    "squeezed_arr= np.squeeze(arr)\n",
    "print(squeezed_arr.shape)\n",
    "print(squeezed_arr)\n"
   ]
  },
  {
   "cell_type": "markdown",
   "id": "61f435b6",
   "metadata": {},
   "source": [
    "To go from 1D to 2D array, we can just add in another dimension of size 1"
   ]
  },
  {
   "cell_type": "code",
   "execution_count": null,
   "id": "24182912",
   "metadata": {},
   "outputs": [
    {
     "name": "stdout",
     "output_type": "stream",
     "text": [
      "1\n",
      "3\n"
     ]
    }
   ],
   "source": [
    "import numpy as np\n",
    "y= np.array([1,2])\n",
    "print(y.ndim)\n",
    "y=y.reshape((-1,1,1))\n",
    "print(y.ndim)"
   ]
  },
  {
   "cell_type": "code",
   "execution_count": 3,
   "id": "4b84f641",
   "metadata": {},
   "outputs": [
    {
     "data": {
      "text/plain": [
       "array([1, 2])"
      ]
     },
     "execution_count": 3,
     "metadata": {},
     "output_type": "execute_result"
    }
   ],
   "source": [
    "m=np.squeeze(y)\n",
    "m"
   ]
  },
  {
   "cell_type": "markdown",
   "id": "bb178ee6",
   "metadata": {},
   "source": [
    "Broadcast"
   ]
  },
  {
   "cell_type": "code",
   "execution_count": null,
   "id": "642df3f6",
   "metadata": {},
   "outputs": [
    {
     "name": "stdout",
     "output_type": "stream",
     "text": [
      "[1 2 3]\n",
      "[[4]\n",
      " [5]\n",
      " [6]]\n",
      "[[5 6 7]\n",
      " [6 7 8]\n",
      " [7 8 9]]\n"
     ]
    }
   ],
   "source": [
    "import numpy as np\n",
    "\n",
    "#Rule no 1: The number of dimensions must be the same\n",
    "\n",
    "a= np.array([1,2,3])\n",
    "print(a)\n",
    "\n",
    "b=np.array([[4],[5],[6]])\n",
    "print(b)\n",
    "\n",
    "c=a+b\n",
    "print(c)"
   ]
  },
  {
   "cell_type": "code",
   "execution_count": 4,
   "id": "f220aad8",
   "metadata": {},
   "outputs": [
    {
     "name": "stdout",
     "output_type": "stream",
     "text": [
      "[[1]\n",
      " [2]\n",
      " [3]]\n",
      "[[4 5]\n",
      " [6 7]\n",
      " [8 9]]\n",
      "[[ 5  6]\n",
      " [ 8  9]\n",
      " [11 12]]\n"
     ]
    }
   ],
   "source": [
    "#Rule no 2: No dimension matches. \n",
    "a=np.array([[1],[2],[3]])\n",
    "print(a)\n",
    "\n",
    "b=np.array([[4,5],[6,7],[8,9]])\n",
    "print(b)\n",
    "\n",
    "c=a+b\n",
    "print(c)"
   ]
  },
  {
   "cell_type": "code",
   "execution_count": 9,
   "id": "d0351010",
   "metadata": {},
   "outputs": [
    {
     "name": "stdout",
     "output_type": "stream",
     "text": [
      "[[1 2 3 4 5]\n",
      " [1 2 3 4 5]\n",
      " [1 2 3 4 5]\n",
      " [1 2 3 4 5]]\n",
      "[[2 2]\n",
      " [1 1]]\n"
     ]
    },
    {
     "ename": "ValueError",
     "evalue": "operands could not be broadcast together with shapes (4,5) (2,2) ",
     "output_type": "error",
     "traceback": [
      "\u001b[1;31m---------------------------------------------------------------------------\u001b[0m",
      "\u001b[1;31mValueError\u001b[0m                                Traceback (most recent call last)",
      "Cell \u001b[1;32mIn[9], line 8\u001b[0m\n\u001b[0;32m      5\u001b[0m mat2\u001b[38;5;241m=\u001b[39mnp\u001b[38;5;241m.\u001b[39marray([[\u001b[38;5;241m2\u001b[39m,\u001b[38;5;241m2\u001b[39m],[\u001b[38;5;241m1\u001b[39m,\u001b[38;5;241m1\u001b[39m]])\n\u001b[0;32m      6\u001b[0m \u001b[38;5;28mprint\u001b[39m(mat2)\n\u001b[1;32m----> 8\u001b[0m mat3\u001b[38;5;241m=\u001b[39m\u001b[43mmat1\u001b[49m\u001b[38;5;241;43m+\u001b[39;49m\u001b[43mmat2\u001b[49m\n\u001b[0;32m      9\u001b[0m \u001b[38;5;28mprint\u001b[39m(mat3)\n",
      "\u001b[1;31mValueError\u001b[0m: operands could not be broadcast together with shapes (4,5) (2,2) "
     ]
    }
   ],
   "source": [
    "#Rule no 3: If in any dimension the sizes disagree and neither is equal to 1, an error is raised.\n",
    "mat1=np.array([[1,2,3,4,5],[1,2,3,4,5],[1,2,3,4,5],[1,2,3,4,5]])\n",
    "print(mat1)\n",
    "\n",
    "mat2=np.array([[2,2],[1,1]])\n",
    "print(mat2)\n",
    "\n",
    "mat3=mat1+mat2\n",
    "print(mat3)"
   ]
  },
  {
   "cell_type": "markdown",
   "id": "ffcf983e",
   "metadata": {},
   "source": [
    "More linear Algebra with numpy"
   ]
  },
  {
   "cell_type": "code",
   "execution_count": 6,
   "id": "f295dfd6",
   "metadata": {},
   "outputs": [
    {
     "name": "stdout",
     "output_type": "stream",
     "text": [
      "Determinant of A is: -2.0000000000000004\n"
     ]
    }
   ],
   "source": [
    "import numpy as np\n",
    "A=np.array([[1,2],[3,4]])\n",
    "\n",
    "# Determinant of a matrix\n",
    "det_A = np.linalg.det(A)\n",
    "print(\"Determinant of A is:\", det_A)"
   ]
  },
  {
   "cell_type": "markdown",
   "id": "3da4e257",
   "metadata": {},
   "source": [
    "Solving Linear Equations"
   ]
  },
  {
   "cell_type": "code",
   "execution_count": null,
   "id": "ed0af003",
   "metadata": {},
   "outputs": [
    {
     "name": "stdout",
     "output_type": "stream",
     "text": [
      "Solution of the given 3D linear equations are:\n",
      " [2.6 3.2 1. ]\n"
     ]
    }
   ],
   "source": [
    "#Example of system linear equations\n",
    "#3x + y -2z= 9\n",
    "#2x - y + z =3\n",
    "#x + 2y + 3z = 12\n",
    "\n",
    "A = np.array([[3, 1, -2], [2, -1, 1], [1, 2, 3]])\n",
    "b= np.array([9, 3, 12])\n",
    "\n",
    "Solutions = np.linalg.solve(A, b)\n",
    "print(f\"Solution of the given 3D linear equations are:\\n\", Solutions)"
   ]
  },
  {
   "cell_type": "markdown",
   "id": "b9b1a741",
   "metadata": {},
   "source": [
    "Random number with numpy"
   ]
  },
  {
   "cell_type": "code",
   "execution_count": 13,
   "id": "9a454eed",
   "metadata": {},
   "outputs": [
    {
     "name": "stdout",
     "output_type": "stream",
     "text": [
      "\n",
      "single random number between 0 and 1:\n",
      " 0.38159544563754666\n",
      "\n",
      "1D array of 5 random numbers:\n",
      "  [0.28206056 0.18938748 0.52486771 0.29686993 0.02695716]\n",
      "\n",
      "2D array of random numbers(3*3):\n",
      " [[0.29309164 0.68947274 0.88648137]\n",
      " [0.58052706 0.18908953 0.20521459]\n",
      " [0.77346977 0.84435627 0.17960154]]\n"
     ]
    }
   ],
   "source": [
    "#generate a single random number between 0 and 1\n",
    "random_number= np.random.rand()\n",
    "print(f\"\\nsingle random number between 0 and 1:\\n\" ,random_number)\n",
    "\n",
    "#generate a 1D array of 5 random numbers \n",
    "random_array_1D= np.random.rand(5)\n",
    "print(f\"\\n1D array of 5 random numbers:\\n \", random_array_1D)\n",
    "\n",
    "#generate a 2D array of random numbers(3*3)\n",
    "random_array_2D= np.random.rand(3,3)\n",
    "print(f\"\\n2D array of random numbers(3*3):\\n\", random_array_2D)"
   ]
  },
  {
   "cell_type": "markdown",
   "id": "50a4e14b",
   "metadata": {},
   "source": [
    "Random Integers"
   ]
  },
  {
   "cell_type": "code",
   "execution_count": 14,
   "id": "32b904b9",
   "metadata": {},
   "outputs": [
    {
     "name": "stdout",
     "output_type": "stream",
     "text": [
      "5\n",
      "[0 0 1 9 2]\n",
      "[[1 0]\n",
      " [4 7]\n",
      " [9 6]]\n"
     ]
    }
   ],
   "source": [
    "#generate a single integer between 0 and 10\n",
    "rand_int = np.random.randint(0,10)\n",
    "print(rand_int)\n",
    "\n",
    "#generate a 1D array of 5 random integers between 0 and 10\n",
    "\n",
    "random_int_array= np.random.randint(0,10,size=5)\n",
    "print(random_int_array)\n",
    "\n",
    "#generate a 2D array of random integers between 0 and 10\n",
    "rand_int_array_2d= np.random.randint(0,10,size=(3,2))\n",
    "print(rand_int_array_2d)\n"
   ]
  },
  {
   "cell_type": "code",
   "execution_count": 15,
   "id": "1b931a01",
   "metadata": {},
   "outputs": [
    {
     "name": "stdout",
     "output_type": "stream",
     "text": [
      "[5 3 1]\n",
      "[2 4 2]\n"
     ]
    }
   ],
   "source": [
    "#Randomly choose 3 elements from the list [1,2,3,4,5]\n",
    "random_sample=np.random.choice([1,2,3,4,5],size=3)\n",
    "print(random_sample)\n",
    "\n",
    "#sample with replacement(the same element can be chosen more than once)\n",
    "random_sample_with_replacement= np.random.choice([1,2,3,4,5],size=3,replace=True)\n",
    "print(random_sample_with_replacement)"
   ]
  },
  {
   "cell_type": "markdown",
   "id": "6ebb5951",
   "metadata": {},
   "source": [
    "Random numbers with specified seeds (Reproducibility)"
   ]
  },
  {
   "cell_type": "code",
   "execution_count": 19,
   "id": "c47325b9",
   "metadata": {},
   "outputs": [
    {
     "name": "stdout",
     "output_type": "stream",
     "text": [
      "[0.37454012 0.95071431 0.73199394]\n",
      "[0.37454012 0.95071431 0.73199394]\n"
     ]
    }
   ],
   "source": [
    "#set the seed for reproducibility\n",
    "np.random.seed(42)\n",
    "\n",
    "#generate random numbers\n",
    "random_numbers = np.random.rand(3)\n",
    "print(random_numbers)\n",
    "\n",
    "#set the seed again and generate same numbers \n",
    "np.random.seed(42)\n",
    "random_numbers_again=np.random.rand(3)\n",
    "print(random_numbers_again)"
   ]
  },
  {
   "cell_type": "code",
   "execution_count": null,
   "id": "5e02576c",
   "metadata": {},
   "outputs": [],
   "source": []
  }
 ],
 "metadata": {
  "kernelspec": {
   "display_name": "Python 3",
   "language": "python",
   "name": "python3"
  },
  "language_info": {
   "codemirror_mode": {
    "name": "ipython",
    "version": 3
   },
   "file_extension": ".py",
   "mimetype": "text/x-python",
   "name": "python",
   "nbconvert_exporter": "python",
   "pygments_lexer": "ipython3",
   "version": "3.12.3"
  }
 },
 "nbformat": 4,
 "nbformat_minor": 5
}
