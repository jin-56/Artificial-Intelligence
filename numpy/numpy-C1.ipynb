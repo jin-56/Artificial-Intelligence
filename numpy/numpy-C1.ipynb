{
 "cells": [
  {
   "cell_type": "code",
   "execution_count": 2,
   "metadata": {},
   "outputs": [],
   "source": [
    "import numpy as np"
   ]
  },
  {
   "cell_type": "code",
   "execution_count": 3,
   "metadata": {},
   "outputs": [],
   "source": [
    "arr=np.array([[1,2,3,4], [5,6,7,8], [9,10,11,12]])"
   ]
  },
  {
   "cell_type": "code",
   "execution_count": 4,
   "metadata": {},
   "outputs": [
    {
     "name": "stdout",
     "output_type": "stream",
     "text": [
      "[[2 3]\n",
      " [6 7]]\n"
     ]
    }
   ],
   "source": [
    "b=arr[0:2,1:3]\n",
    "print(b)"
   ]
  },
  {
   "cell_type": "code",
   "execution_count": 5,
   "metadata": {},
   "outputs": [
    {
     "name": "stdout",
     "output_type": "stream",
     "text": [
      "[[ 1  2  3  4]\n",
      " [ 5  6  7  8]\n",
      " [ 9 10 11 12]]\n"
     ]
    }
   ],
   "source": [
    "print(arr)"
   ]
  },
  {
   "cell_type": "code",
   "execution_count": 6,
   "metadata": {},
   "outputs": [
    {
     "name": "stdout",
     "output_type": "stream",
     "text": [
      "[5 6 7 8] 1\n",
      "[[5 6 7 8]] 2\n",
      "[[ 9 10 11 12]] 2\n"
     ]
    }
   ],
   "source": [
    "row_r1 = arr[1,:]\n",
    "row_r2 = arr[1:2,:]\n",
    "row_r3 = arr[[2],:]\n",
    "print(row_r1,row_r1.ndim)\n",
    "print(row_r2, row_r2.ndim)\n",
    "print(row_r3, row_r3.ndim)"
   ]
  },
  {
   "cell_type": "code",
   "execution_count": 7,
   "metadata": {},
   "outputs": [
    {
     "name": "stdout",
     "output_type": "stream",
     "text": [
      "[[0. 0. 0.]\n",
      " [0. 0. 0.]\n",
      " [0. 0. 0.]]\n"
     ]
    }
   ],
   "source": [
    "d=np.zeros((3,3))\n",
    "print(d)"
   ]
  },
  {
   "cell_type": "code",
   "execution_count": 8,
   "metadata": {},
   "outputs": [
    {
     "name": "stdout",
     "output_type": "stream",
     "text": [
      "[[1. 1. 1.]\n",
      " [1. 1. 1.]\n",
      " [1. 1. 1.]\n",
      " [1. 1. 1.]]\n"
     ]
    }
   ],
   "source": [
    "e=np.ones((4,3))\n",
    "print(e)"
   ]
  },
  {
   "cell_type": "code",
   "execution_count": 9,
   "metadata": {},
   "outputs": [
    {
     "name": "stdout",
     "output_type": "stream",
     "text": [
      "[0.78775657 0.82593851 0.15916045]\n",
      "[0.59965388 0.33448055 0.26423971]\n"
     ]
    }
   ],
   "source": [
    "n=np.random.random(3)\n",
    "print(n)\n",
    "p=np.random.sample(3)\n",
    "print(p)"
   ]
  },
  {
   "cell_type": "code",
   "execution_count": 10,
   "metadata": {},
   "outputs": [
    {
     "name": "stdout",
     "output_type": "stream",
     "text": [
      "[[[0.554476   0.07339507 0.15531586]\n",
      "  [0.24514263 0.50272976 0.28020354]\n",
      "  [0.00913241 0.94349972 0.64956165]]\n",
      "\n",
      " [[0.82605127 0.71502859 0.75770072]\n",
      "  [0.52119715 0.27392375 0.46235294]\n",
      "  [0.4524919  0.11707116 0.96224146]]\n",
      "\n",
      " [[0.172815   0.13556877 0.62256034]\n",
      "  [0.9118526  0.14412575 0.04154198]\n",
      "  [0.43247549 0.70519075 0.29492128]]\n",
      "\n",
      " [[0.15685208 0.24592019 0.21296371]\n",
      "  [0.57191536 0.55727228 0.71854043]\n",
      "  [0.28001762 0.48877041 0.73220802]]]\n",
      "dimension of matrix is: 3\n"
     ]
    }
   ],
   "source": [
    "e=np.random.random((4,3,3))\n",
    "print(e)\n",
    "print(f\"dimension of matrix is:\",e.ndim)"
   ]
  },
  {
   "cell_type": "code",
   "execution_count": 11,
   "metadata": {},
   "outputs": [
    {
     "name": "stdout",
     "output_type": "stream",
     "text": [
      "[[2 2]\n",
      " [2 2]]\n"
     ]
    }
   ],
   "source": [
    "c=np.full((2,2),2)\n",
    "print(c)"
   ]
  },
  {
   "cell_type": "code",
   "execution_count": 12,
   "metadata": {},
   "outputs": [
    {
     "name": "stdout",
     "output_type": "stream",
     "text": [
      "[[1. 0.]\n",
      " [0. 1.]]\n",
      "float64\n"
     ]
    }
   ],
   "source": [
    "d=np.eye(2)\n",
    "print(d)\n",
    "print(d.dtype)"
   ]
  },
  {
   "cell_type": "markdown",
   "metadata": {},
   "source": [
    "Stack"
   ]
  },
  {
   "cell_type": "code",
   "execution_count": 13,
   "metadata": {},
   "outputs": [
    {
     "data": {
      "text/plain": [
       "array([[1, 2, 3],\n",
       "       [4, 5, 6]])"
      ]
     },
     "execution_count": 13,
     "metadata": {},
     "output_type": "execute_result"
    }
   ],
   "source": [
    "a=np.array([1,2,3])\n",
    "b=np.array([4,5,6])\n",
    "np.vstack((a,b))    #vertica stack\n"
   ]
  },
  {
   "cell_type": "code",
   "execution_count": 14,
   "metadata": {},
   "outputs": [
    {
     "name": "stdout",
     "output_type": "stream",
     "text": [
      "[[1]\n",
      " [2]\n",
      " [3]]\n",
      "[[2]\n",
      " [4]\n",
      " [6]]\n"
     ]
    },
    {
     "data": {
      "text/plain": [
       "array([[1, 2],\n",
       "       [2, 4],\n",
       "       [3, 6]])"
      ]
     },
     "execution_count": 14,
     "metadata": {},
     "output_type": "execute_result"
    }
   ],
   "source": [
    "a=np.array(([1],[2],[3]))\n",
    "print(a)\n",
    "b=np.array(([2],[4],[6]))\n",
    "print(b)\n",
    "np.hstack((a,b))"
   ]
  },
  {
   "cell_type": "markdown",
   "metadata": {},
   "source": [
    "Datatypes"
   ]
  },
  {
   "cell_type": "code",
   "execution_count": 15,
   "metadata": {},
   "outputs": [
    {
     "name": "stdout",
     "output_type": "stream",
     "text": [
      "float64\n"
     ]
    }
   ],
   "source": [
    "x=np.array([1.0,2])\n",
    "print(x.dtype)"
   ]
  },
  {
   "cell_type": "markdown",
   "metadata": {},
   "source": [
    "Array Math"
   ]
  },
  {
   "cell_type": "code",
   "execution_count": 16,
   "metadata": {},
   "outputs": [
    {
     "data": {
      "text/plain": [
       "array([0.49686942, 0.81605693, 0.22296015, ..., 0.97580344, 0.35072159,\n",
       "       0.15897864])"
      ]
     },
     "execution_count": 16,
     "metadata": {},
     "output_type": "execute_result"
    }
   ],
   "source": [
    "a=np.random.random(1000000000)\n",
    "a"
   ]
  },
  {
   "cell_type": "code",
   "execution_count": 23,
   "metadata": {},
   "outputs": [
    {
     "name": "stdout",
     "output_type": "stream",
     "text": [
      "CPU times: total: 7.12 s\n",
      "Wall time: 11.5 s\n"
     ]
    }
   ],
   "source": [
    "%%time\n",
    "z=np.sum(a)"
   ]
  },
  {
   "cell_type": "code",
   "execution_count": null,
   "metadata": {},
   "outputs": [
    {
     "name": "stdout",
     "output_type": "stream",
     "text": [
      "addition is: [[3 4]\n",
      " [7 8]]\n",
      "subtraction is: [[-1  0]\n",
      " [-1  0]]\n"
     ]
    }
   ],
   "source": [
    "x=np.array(([1,2],[3,4]))\n",
    "y=np.array(([2,2],[4,4]))\n",
    "print(f\"addition is:\" ,np.add(x,y))\n",
    "print(f\"subtraction is:\",np.subtract(x,y))\n",
    "print(f\"multiplication is:\",np.subtract(x,y))\n",
    "print(f\"division is:\",np.subtract(x,y))\n",
    "#sqrt for square root"
   ]
  },
  {
   "cell_type": "markdown",
   "metadata": {},
   "source": [
    "Day 2 ***\n"
   ]
  },
  {
   "cell_type": "markdown",
   "metadata": {},
   "source": [
    "Dot Product"
   ]
  },
  {
   "cell_type": "code",
   "execution_count": 18,
   "metadata": {},
   "outputs": [
    {
     "name": "stdout",
     "output_type": "stream",
     "text": [
      "[[10 10]\n",
      " [22 22]]\n",
      "[[10 10]\n",
      " [22 22]]\n"
     ]
    }
   ],
   "source": [
    "x=np.array(([1,2],[3,4]))\n",
    "y=np.array(([2,2],[4,4]))\n",
    "\n",
    "u=np.array(([1,2],[3,4]))\n",
    "i=np.array(([2,2],[4,4]))\n",
    "\n",
    "#inner dot product\n",
    "print(u.dot(i))\n",
    "print(np.dot(u,i))"
   ]
  },
  {
   "cell_type": "code",
   "execution_count": 22,
   "metadata": {},
   "outputs": [
    {
     "name": "stdout",
     "output_type": "stream",
     "text": [
      "[[ 30  24  18]\n",
      " [ 84  69  54]\n",
      " [138 114  90]]\n",
      "[[ 30  24  18]\n",
      " [ 84  69  54]\n",
      " [138 114  90]]\n",
      "[[ 30  36  42]\n",
      " [ 66  81  96]\n",
      " [102 126 150]]\n"
     ]
    }
   ],
   "source": [
    "v=np.array(([1,2,3],[4,5,6],[7,8,9]))\n",
    "u=np.array(([9,8,7],[6,5,4],[3,2,1]))\n",
    "print(v.dot(u))\n",
    "print(np.dot(v,u))\n",
    "print(v @ v)        #also a dot product"
   ]
  },
  {
   "cell_type": "code",
   "execution_count": null,
   "metadata": {},
   "outputs": [],
   "source": []
  }
 ],
 "metadata": {
  "kernelspec": {
   "display_name": "Python 3",
   "language": "python",
   "name": "python3"
  },
  "language_info": {
   "codemirror_mode": {
    "name": "ipython",
    "version": 3
   },
   "file_extension": ".py",
   "mimetype": "text/x-python",
   "name": "python",
   "nbconvert_exporter": "python",
   "pygments_lexer": "ipython3",
   "version": "3.12.3"
  }
 },
 "nbformat": 4,
 "nbformat_minor": 2
}
